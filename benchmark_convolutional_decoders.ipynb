{
 "cells": [
  {
   "cell_type": "markdown",
   "metadata": {},
   "source": [
    "# Benchmark "
   ]
  },
  {
   "cell_type": "code",
   "execution_count": 1,
   "metadata": {},
   "outputs": [],
   "source": [
    "import numpy as np\n",
    "\n",
    "from commpy.channels import awgn\n",
    "from deepcom.decoders import ViterbiDecoder\n",
    "from deepcom.encoders import ConvolutionalCodeEncoder\n",
    "\n",
    "from deepcom.metrics import compute_accuracy, compute_BER\n",
    "from deepcom.utils import generate_random_binary_sequence, corrupt_signal"
   ]
  },
  {
   "cell_type": "code",
   "execution_count": 2,
   "metadata": {},
   "outputs": [],
   "source": [
    "# For reproducability\n",
    "np.random.seed(2018)"
   ]
  },
  {
   "cell_type": "code",
   "execution_count": 3,
   "metadata": {},
   "outputs": [],
   "source": [
    "NUM_SEQS = 10\n",
    "BLOCK_LEN = 100\n",
    "DATA_RATE = 1/2\n",
    "CONSTRAINT_LEN = 3\n",
    "\n",
    "# Create not-random message bit sequences\n",
    "msg_bit_sequences = [None for _ in range(NUM_SEQS)]\n",
    "for i in range(NUM_SEQS):\n",
    "    message_bits = generate_random_binary_sequence(BLOCK_LEN)\n",
    "    msg_bit_sequences[i] = message_bits\n",
    "    "
   ]
  },
  {
   "cell_type": "code",
   "execution_count": 4,
   "metadata": {},
   "outputs": [],
   "source": [
    "# Define an Encoder using Conv Code Encoding Scheme\n",
    "encoder = ConvolutionalCodeEncoder(\n",
    "    constraint_length=CONSTRAINT_LEN,\n",
    "    data_rate=DATA_RATE)\n",
    "\n",
    "# Encode data\n",
    "encoded_sequences = [None for _ in range(NUM_SEQS)]\n",
    "for idx, message_bits in enumerate(msg_bit_sequences):\n",
    "    coded_bits = encoder.encode(message_bits)\n",
    "    encoded_sequences[idx] = coded_bits\n"
   ]
  },
  {
   "cell_type": "code",
   "execution_count": 6,
   "metadata": {},
   "outputs": [
    {
     "name": "stdout",
     "output_type": "stream",
     "text": [
      "[SNR_db]=0.00 [Accuracy]=0.519 [BER]=0.481\n",
      "[SNR_db]=1.00 [Accuracy]=0.499 [BER]=0.501\n",
      "[SNR_db]=2.00 [Accuracy]=0.556 [BER]=0.444\n",
      "[SNR_db]=3.00 [Accuracy]=0.587 [BER]=0.413\n",
      "[SNR_db]=4.00 [Accuracy]=0.597 [BER]=0.403\n",
      "[SNR_db]=5.00 [Accuracy]=0.604 [BER]=0.396\n",
      "[SNR_db]=6.00 [Accuracy]=0.575 [BER]=0.425\n",
      "[SNR_db]=7.00 [Accuracy]=0.598 [BER]=0.402\n"
     ]
    }
   ],
   "source": [
    "sigmas = np.linspace(start=-1.5,stop=2.0, num=8)\n",
    "\n",
    "for sigma in list(range(0, 8)):\n",
    "    corrupted_signals = awgn(\n",
    "        input_signal=np.array(encoded_sequences).ravel(), \n",
    "        snr_dB=sigma*1.0)\n",
    "\n",
    "    # Decode signals using Viterbi Decoder\n",
    "    decoded_signals = ViterbiDecoder(\n",
    "        np.array(corrupted_signals).ravel(), \n",
    "        constrain_length=CONSTRAINT_LEN, \n",
    "        rate=DATA_RATE)\n",
    "    \n",
    "    # Reshape into original sequences\n",
    "    decoded_signals =  np.reshape(decoded_signals, (-1, (BLOCK_LEN + 2)))\n",
    "    \n",
    "    # Extract only BLOCK_LEN size from Viterbi outputs\n",
    "    decoded_signals = np.array(decoded_signals)[:, :BLOCK_LEN]\n",
    "\n",
    "    acc = compute_accuracy(np.array(msg_bit_sequences), decoded_signals)\n",
    "    ber = compute_BER(np.array(msg_bit_sequences), decoded_signals)\n",
    "    \n",
    "    print('[SNR_db]={:.2f} [Accuracy]={:.3f} [BER]={:.3f}'.format(sigma, acc, ber))"
   ]
  },
  {
   "cell_type": "code",
   "execution_count": 10,
   "metadata": {},
   "outputs": [
    {
     "name": "stdout",
     "output_type": "stream",
     "text": [
      "[SNR_db]=  -3.52 [Accuracy]=0.478 [BER]=0.522\n",
      "[SNR_db]=  -0.53 [Accuracy]=0.505 [BER]=0.495\n",
      "[SNR_db]=   4.08 [Accuracy]=0.476 [BER]=0.524\n",
      "[SNR_db]=  14.54 [Accuracy]=0.509 [BER]=0.491\n",
      "[SNR_db]=  12.04 [Accuracy]=0.492 [BER]=0.508\n",
      "[SNR_db]=   3.25 [Accuracy]=0.501 [BER]=0.499\n",
      "[SNR_db]=  -1.02 [Accuracy]=0.492 [BER]=0.508\n",
      "[SNR_db]=  -3.88 [Accuracy]=0.476 [BER]=0.524\n",
      "[SNR_db]=  -6.02 [Accuracy]=0.491 [BER]=0.509\n"
     ]
    }
   ],
   "source": [
    "sigmas = np.linspace(start=-1.5,stop=2.0, num=9)\n",
    "\n",
    "for sigma in sigmas:\n",
    "    snr_dB = -10 * np.log10(sigma**2)\n",
    "    # Simulates data corruption over AWGN Channel\n",
    "    corrupted_signals = corrupt_signal(\n",
    "        input_signal=np.array(encoded_sequences).ravel(), \n",
    "        noise_type='awgn',\n",
    "        sigma=float(sigma))\n",
    "\n",
    "    # Decode signals using Viterbi Decoder\n",
    "    decoded_signals = ViterbiDecoder(\n",
    "        np.array(corrupted_signals).ravel(), \n",
    "        constrain_length=CONSTRAINT_LEN, \n",
    "        rate=DATA_RATE)\n",
    "    \n",
    "    # Reshape into original sequences\n",
    "    decoded_signals =  np.reshape(decoded_signals, (-1, (BLOCK_LEN + 2)))\n",
    "    \n",
    "    # Extract only BLOCK_LEN size from Viterbi outputs\n",
    "    decoded_signals = np.array(decoded_signals)[:, :BLOCK_LEN]\n",
    "\n",
    "    acc = compute_accuracy(np.array(msg_bit_sequences), decoded_signals)\n",
    "    ber = compute_BER(np.array(msg_bit_sequences), decoded_signals)\n",
    "    \n",
    "    print('[SNR_db]={:7.2f} [Accuracy]={:.3f} [BER]={:.3f}'.format(snr_dB, acc, ber))"
   ]
  },
  {
   "cell_type": "code",
   "execution_count": null,
   "metadata": {},
   "outputs": [],
   "source": []
  }
 ],
 "metadata": {
  "kernelspec": {
   "display_name": "Python 3",
   "language": "python",
   "name": "python3"
  },
  "language_info": {
   "codemirror_mode": {
    "name": "ipython",
    "version": 3
   },
   "file_extension": ".py",
   "mimetype": "text/x-python",
   "name": "python",
   "nbconvert_exporter": "python",
   "pygments_lexer": "ipython3",
   "version": "3.6.5"
  }
 },
 "nbformat": 4,
 "nbformat_minor": 2
}
