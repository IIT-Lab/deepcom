{
 "cells": [
  {
   "cell_type": "markdown",
   "metadata": {},
   "source": [
    "# Benchmark \n",
    "---\n",
    "\n",
    "\n",
    "This notebook compares the decoder performance between Viterbi Decoder and Neural Decoder [1] on Convolution Codes over AWGN Channel.\n",
    "\n",
    "Reference:\n",
    "* [1] Kim, Hyeji, et al. \"Communication Algorithms via Deep Learning.\" ICLR (2018)\n",
    "\n",
    "### TODOs:\n",
    "---\n",
    "\n",
    "* [x] Benchmark Viterbi Decoder \n",
    "* [ ] Benchmark Neural Decoder\n"
   ]
  },
  {
   "cell_type": "code",
   "execution_count": 1,
   "metadata": {},
   "outputs": [],
   "source": [
    "import numpy as np\n",
    "import commpy as cp\n",
    "import multiprocessing as mp\n",
    "\n",
    "import matplotlib.pyplot as plt\n",
    "%matplotlib inline"
   ]
  },
  {
   "cell_type": "markdown",
   "metadata": {},
   "source": [
    "# Dataset"
   ]
  },
  {
   "cell_type": "code",
   "execution_count": 2,
   "metadata": {},
   "outputs": [],
   "source": [
    "def generate_random_binary_sequence(seq_len, p=0.5):\n",
    "  \"\"\"Generate message bits length `seq_len` of a random binary \n",
    "  sequence, where each bit picked is a one with probability p.\n",
    "\n",
    "  Args:\n",
    "    seq_len: - int - length of message bit\n",
    "    p - float - probability\n",
    "\n",
    "  Return:\n",
    "    seq: - 1D ndarray - represent a message bits\n",
    "  \"\"\"\n",
    "  seq = np.zeros(seq_len)\n",
    "  for i in range(seq_len):\n",
    "    seq[i] = 1 if (np.random.random() < p) else 0\n",
    "  return seq"
   ]
  },
  {
   "cell_type": "code",
   "execution_count": 3,
   "metadata": {},
   "outputs": [],
   "source": [
    "# For reproducability\n",
    "np.random.seed(2018)\n",
    "\n",
    "NUM_SEQS = 100\n",
    "BLOCK_LEN = 100\n",
    "DATA_RATE = 1/2\n",
    "CONSTRAINT_LEN = 3\n",
    "TRACE_BACK_DEPTH = 5 * CONSTRAINT_LEN\n",
    "\n",
    "# Generate random message bit sequences\n",
    "msg_bit_sequences = [None for _ in range(NUM_SEQS)]\n",
    "for i in range(NUM_SEQS):\n",
    "    message_bits = generate_random_binary_sequence(BLOCK_LEN)\n",
    "    msg_bit_sequences[i] = message_bits\n",
    "    \n",
    "# Turn on random state again\n",
    "np.random.seed()"
   ]
  },
  {
   "cell_type": "markdown",
   "metadata": {},
   "source": [
    "# Define a Trellis structure"
   ]
  },
  {
   "cell_type": "code",
   "execution_count": 4,
   "metadata": {},
   "outputs": [
    {
     "ename": "AttributeError",
     "evalue": "module 'commpy' has no attribute 'channelcoding'",
     "output_type": "error",
     "traceback": [
      "\u001b[0;31m---------------------------------------------------------------------------\u001b[0m",
      "\u001b[0;31mAttributeError\u001b[0m                            Traceback (most recent call last)",
      "\u001b[0;32m<ipython-input-4-91b251e5afe5>\u001b[0m in \u001b[0;36m<module>\u001b[0;34m()\u001b[0m\n\u001b[1;32m      2\u001b[0m \u001b[0mG\u001b[0m \u001b[0;34m=\u001b[0m \u001b[0mnp\u001b[0m\u001b[0;34m.\u001b[0m\u001b[0marray\u001b[0m\u001b[0;34m(\u001b[0m\u001b[0;34m[\u001b[0m\u001b[0;34m[\u001b[0m\u001b[0;36m0o7\u001b[0m\u001b[0;34m,\u001b[0m \u001b[0;36m0o5\u001b[0m\u001b[0;34m]\u001b[0m\u001b[0;34m]\u001b[0m\u001b[0;34m)\u001b[0m\u001b[0;34m\u001b[0m\u001b[0m\n\u001b[1;32m      3\u001b[0m \u001b[0mM\u001b[0m \u001b[0;34m=\u001b[0m \u001b[0mnp\u001b[0m\u001b[0;34m.\u001b[0m\u001b[0marray\u001b[0m\u001b[0;34m(\u001b[0m\u001b[0;34m[\u001b[0m\u001b[0mCONSTRAINT_LEN\u001b[0m \u001b[0;34m-\u001b[0m \u001b[0;36m1\u001b[0m\u001b[0;34m]\u001b[0m\u001b[0;34m)\u001b[0m\u001b[0;34m\u001b[0m\u001b[0m\n\u001b[0;32m----> 4\u001b[0;31m \u001b[0mtrellis\u001b[0m \u001b[0;34m=\u001b[0m \u001b[0mcp\u001b[0m\u001b[0;34m.\u001b[0m\u001b[0mchannelcoding\u001b[0m\u001b[0;34m.\u001b[0m\u001b[0mTrellis\u001b[0m\u001b[0;34m(\u001b[0m\u001b[0mM\u001b[0m\u001b[0;34m,\u001b[0m \u001b[0mG\u001b[0m\u001b[0;34m,\u001b[0m \u001b[0mfeedback\u001b[0m\u001b[0;34m=\u001b[0m\u001b[0;36m0o7\u001b[0m\u001b[0;34m,\u001b[0m \u001b[0mcode_type\u001b[0m\u001b[0;34m=\u001b[0m\u001b[0;34m'rsc'\u001b[0m\u001b[0;34m)\u001b[0m\u001b[0;34m\u001b[0m\u001b[0m\n\u001b[0m",
      "\u001b[0;31mAttributeError\u001b[0m: module 'commpy' has no attribute 'channelcoding'"
     ]
    }
   ],
   "source": [
    "#  Generator Matrix (octal representation)\n",
    "G = np.array([[0o7, 0o5]]) \n",
    "M = np.array([CONSTRAINT_LEN - 1])\n",
    "trellis = cp.channelcoding.Trellis(M, G, feedback=0o7, code_type='rsc')"
   ]
  },
  {
   "cell_type": "markdown",
   "metadata": {},
   "source": [
    "# Benchmark Decoder"
   ]
  },
  {
   "cell_type": "code",
   "execution_count": null,
   "metadata": {},
   "outputs": [],
   "source": [
    "def awgn_channel(input_signal, snr):\n",
    "    \"\"\"Simulate data corruption over AWGN channel\"\"\"\n",
    "    signal = 2.0 * input_signal - 1.0\n",
    "    noise = snr * np.random.standard_normal(input_signal.shape) \n",
    "    return signal + noise\n",
    "\n",
    "def benchmark(message_bits, snr_dB):\n",
    "    # Encode message bit\n",
    "    coded_bits = cp.channelcoding.conv_encode(message_bits, trellis)\n",
    "    \n",
    "    # Corrupt message on BAWGN Channel\n",
    "    coded_bits = awgn_channel(coded_bits, snr_dB)\n",
    "    \n",
    "    # make fair comparison between (100, 204) convolutional code and RNN decoder\n",
    "    # Reference: Author's code\n",
    "    coded_bits[-2*int(M):] = 0\n",
    "    \n",
    "    # Viterbi Decoder on Conv. Code\n",
    "    decoded_bits = cp.channelcoding.viterbi_decode(\n",
    "        coded_bits=coded_bits.astype(float), \n",
    "        trellis=trellis,\n",
    "        tb_depth=TRACE_BACK_DEPTH,\n",
    "        decoding_type='unquantized')\n",
    "    \n",
    "    # Number of bit errors (hamming distance)\n",
    "    hamming_dist = cp.utilities.hamming_dist(\n",
    "        message_bits.astype(int),\n",
    "        decoded_bits[:-int(M)])\n",
    "    \n",
    "    return hamming_dist"
   ]
  },
  {
   "cell_type": "code",
   "execution_count": null,
   "metadata": {},
   "outputs": [],
   "source": [
    "BERs = []\n",
    "BLERs = []\n",
    "SNRs     = np.linspace(-1.5, 2.0, 8)\n",
    "\n",
    "for snr_dB in SNRs:\n",
    "    \n",
    "    snr_dB = np.sqrt(1 / (2*10.**((snr_dB)/10.)))\n",
    "    with mp.Pool(processes=4) as pool:\n",
    "        hammming_distances = pool.starmap(\n",
    "            func=benchmark, \n",
    "            iterable=[(msg_bits, snr_dB) for msg_bits in msg_bit_sequences])\n",
    "    \n",
    "    # Bit error rate\n",
    "    ber = sum(hammming_distances) / np.product(np.shape(msg_bit_sequences))\n",
    "    \n",
    "    # Block error rate\n",
    "    bler = np.count_nonzero(hammming_distances) / len(msg_bit_sequences)\n",
    "    \n",
    "    BERs.append(ber)\n",
    "    BLERs.append(bler)\n",
    "    print('[SNR_dB]={:5.2f} [BLER]={:5.3f} [BER]={:5.7f} '.format(snr_dB, bler, ber))"
   ]
  },
  {
   "cell_type": "code",
   "execution_count": null,
   "metadata": {},
   "outputs": [],
   "source": [
    "plt.figure(figsize=(10, 8))\n",
    "plt.title('Encoding: Conv. Code || Block Length = 100 || Data rate = 1/2', fontsize=14)\n",
    "plt.semilogy(SNRs, BERs, '-s')\n",
    "\n",
    "plt.legend(['Viterbi'], fontsize=16)\n",
    "plt.xlabel('SNR', fontsize=16)\n",
    "plt.ylabel('BER', fontsize=16)\n",
    "plt.grid(True, which='both')\n",
    "plt.xlim(xmin=SNRs[0], xmax=SNRs[-1])  # this line\n",
    "plt.ylim(ymin=10e-6, ymax=10e-2)\n",
    "plt.savefig('plot_100.png')"
   ]
  },
  {
   "cell_type": "code",
   "execution_count": null,
   "metadata": {},
   "outputs": [],
   "source": [
    "# plt.figure(figsize=(10, 8))\n",
    "# plt.title('Encoding Scheme = Convolution Codes || Block Length = 100 || Data rate = 1/2', fontsize=14)\n",
    "# plt.semilogy(SNRs, [0.01, 0.005, 0.001, 0.0005, 0.0001, 0.00005, 0.00001, 0.0000005], '-s')\n",
    "# plt.semilogy(SNRs, [0.03, 0.006, 0.003, 0.0004, 0.0002, 0.00006, 0.00007, 0.0000008], '-s')\n",
    "\n",
    "# plt.legend(['Viterbi', 'Neural Decoder'], fontsize=14)\n",
    "# plt.xlabel('SNR', fontsize=14)\n",
    "# plt.ylabel('BER', fontsize=14)\n",
    "# plt.grid(True, which='both')\n",
    "# plt.xlim(xmin=0, xmax=SNRs[-1])  # this line\n",
    "# plt.savefig('plot.png')"
   ]
  }
 ],
 "metadata": {
  "kernelspec": {
   "display_name": "Python 3",
   "language": "python",
   "name": "python3"
  },
  "language_info": {
   "codemirror_mode": {
    "name": "ipython",
    "version": 3
   },
   "file_extension": ".py",
   "mimetype": "text/x-python",
   "name": "python",
   "nbconvert_exporter": "python",
   "pygments_lexer": "ipython3",
   "version": "3.6.5"
  }
 },
 "nbformat": 4,
 "nbformat_minor": 2
}
