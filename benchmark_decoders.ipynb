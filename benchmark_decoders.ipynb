{
 "cells": [
  {
   "cell_type": "markdown",
   "metadata": {},
   "source": [
    "# Benchmark \n",
    "---\n",
    "![](./docs/weekly_reports/week2/plot_100.png)\n",
    "\n",
    "\n",
    "This notebook compares the decoder performance between Viterbi Decoder and Neural Decoder [1] on Convolution Codes over AWGN Channel.\n",
    "\n",
    "Reference:\n",
    "* [1] Kim, Hyeji, et al. \"Communication Algorithms via Deep Learning.\" ICLR (2018)\n",
    "\n",
    "\n",
    "### TODOs:\n",
    "---\n",
    "\n",
    "* [x] Benchmark Viterbi Decoder \n",
    "* [ ] Benchmark Neural Decoder\n"
   ]
  },
  {
   "cell_type": "code",
   "execution_count": 1,
   "metadata": {},
   "outputs": [],
   "source": [
    "import numpy as np\n",
    "import commpy as cp\n",
    "import multiprocessing as mp\n",
    "\n",
    "from deepcom.utils import generate_message_bits\n",
    "\n",
    "import matplotlib.pyplot as plt\n",
    "%matplotlib inline"
   ]
  },
  {
   "cell_type": "markdown",
   "metadata": {},
   "source": [
    "# Dataset"
   ]
  },
  {
   "cell_type": "code",
   "execution_count": 3,
   "metadata": {},
   "outputs": [],
   "source": [
    "# For reproducability\n",
    "np.random.seed(2018)\n",
    "\n",
    "# Paramters for the benchmark\n",
    "NUM_SEQS = 100\n",
    "BLOCK_LEN = 100\n",
    "DATA_RATE = 1/2\n",
    "CONSTRAINT_LEN = 3\n",
    "TRACE_BACK_DEPTH = 5 * CONSTRAINT_LEN\n",
    "\n",
    "# Generate random message bit sequences\n",
    "msg_bit_sequences = [None for _ in range(NUM_SEQS)]\n",
    "for i in range(NUM_SEQS):\n",
    "    message_bits = generate_message_bits(BLOCK_LEN)\n",
    "    msg_bit_sequences[i] = message_bits\n",
    "    \n",
    "# Turn on random state again\n",
    "np.random.seed()"
   ]
  },
  {
   "cell_type": "markdown",
   "metadata": {},
   "source": [
    "# Define a Trellis structure"
   ]
  },
  {
   "cell_type": "code",
   "execution_count": 5,
   "metadata": {},
   "outputs": [],
   "source": [
    "#  Generator Matrix (octal representation)\n",
    "#  Note 0o7\n",
    "G = np.array([[0o7, 0o5]]) \n",
    "M = np.array([CONSTRAINT_LEN - 1])\n",
    "trellis = cp.channelcoding.Trellis(M, G, feedback=0o7, code_type='rsc')"
   ]
  },
  {
   "cell_type": "markdown",
   "metadata": {},
   "source": [
    "# Helper Functions\n",
    "---"
   ]
  },
  {
   "cell_type": "code",
   "execution_count": 7,
   "metadata": {},
   "outputs": [],
   "source": [
    "def awgn_channel(input_signal, snr):\n",
    "    \"\"\"Simulate data corruption over AWGN channel\"\"\"\n",
    "    signal = 2.0 * input_signal - 1.0\n",
    "    noise = snr * np.random.standard_normal(input_signal.shape) \n",
    "    return signal + noise\n",
    "\n",
    "def benchmark(message_bits, snr_dB):\n",
    "    # Encode message bit\n",
    "    coded_bits = cp.channelcoding.conv_encode(message_bits, trellis)\n",
    "    \n",
    "    # Corrupt message on BAWGN Channel\n",
    "    coded_bits = awgn_channel(coded_bits, snr_dB)\n",
    "    \n",
    "    # make fair comparison between (100, 204) convolutional code and RNN decoder\n",
    "    # Reference: Author's code\n",
    "    coded_bits[-2*int(M):] = 0\n",
    "    \n",
    "    # Viterbi Decoder on Conv. Code\n",
    "    decoded_bits = cp.channelcoding.viterbi_decode(\n",
    "        coded_bits=coded_bits.astype(float), \n",
    "        trellis=trellis,\n",
    "        tb_depth=TRACE_BACK_DEPTH,\n",
    "        decoding_type='unquantized')\n",
    "    \n",
    "    # Number of bit errors (hamming distance)\n",
    "    hamming_dist = cp.utilities.hamming_dist(\n",
    "        message_bits.astype(int),\n",
    "        decoded_bits[:-int(M)])\n",
    "    \n",
    "    return hamming_dist"
   ]
  },
  {
   "cell_type": "markdown",
   "metadata": {},
   "source": [
    "# Benchmark Decoder"
   ]
  },
  {
   "cell_type": "code",
   "execution_count": 8,
   "metadata": {},
   "outputs": [
    {
     "name": "stdout",
     "output_type": "stream",
     "text": [
      "[SNR_dB]= 0.84 [BLER]=0.640 [BER]=0.0293000 \n",
      "[SNR_dB]= 0.79 [BLER]=0.480 [BER]=0.0178000 \n",
      "[SNR_dB]= 0.75 [BLER]=0.320 [BER]=0.0103000 \n",
      "[SNR_dB]= 0.71 [BLER]=0.200 [BER]=0.0053000 \n",
      "[SNR_dB]= 0.67 [BLER]=0.100 [BER]=0.0023000 \n",
      "[SNR_dB]= 0.63 [BLER]=0.060 [BER]=0.0012000 \n",
      "[SNR_dB]= 0.59 [BLER]=0.030 [BER]=0.0005000 \n",
      "[SNR_dB]= 0.56 [BLER]=0.020 [BER]=0.0002000 \n"
     ]
    }
   ],
   "source": [
    "BERs = []\n",
    "BLERs = []\n",
    "SNRs  = np.linspace(-1.5, 2.0, 8)\n",
    "\n",
    "for snr in SNRs:\n",
    "    # Decoding sequences in parallel (4= number of available CPU cores)\n",
    "    with mp.Pool(processes=4) as pool:\n",
    "        snr_dB = np.sqrt(1 / (2*10.**((snr)/10.)))\n",
    "        hammming_distances = pool.starmap(\n",
    "            func=benchmark, \n",
    "            iterable=[(msg_bits, snr_dB) for msg_bits in msg_bit_sequences])\n",
    "    \n",
    "    # Bit error rate\n",
    "    ber = sum(hammming_distances) / np.product(np.shape(msg_bit_sequences))\n",
    "    \n",
    "    # Block error rate\n",
    "    bler = np.count_nonzero(hammming_distances) / len(msg_bit_sequences)\n",
    "    \n",
    "    BERs.append(ber)\n",
    "    BLERs.append(bler)\n",
    "    print('[SNR_dB]={:5.2f} [BLER]={:5.3f} [BER]={:5.7f} '.format(snr_dB, bler, ber))"
   ]
  },
  {
   "cell_type": "code",
   "execution_count": 12,
   "metadata": {},
   "outputs": [
    {
     "data": {
      "image/png": "[encoded data removed]",
      "text/plain": [
       "<Figure size 720x576 with 1 Axes>"
      ]
     },
     "metadata": {},
     "output_type": "display_data"
    }
   ],
   "source": [
    "plt.figure(figsize=(10, 8))\n",
    "plt.title('Encoding: Conv. Code || Block Length = 100 || Data rate = 1/2', fontsize=14)\n",
    "plt.semilogy(SNRs, BERs, '-s')\n",
    "\n",
    "plt.legend(['Viterbi'], fontsize=16)\n",
    "plt.xlabel('SNR', fontsize=16)\n",
    "plt.ylabel('BER', fontsize=16)\n",
    "plt.grid(True, which='both')\n",
    "plt.xlim(xmin=SNRs[0], xmax=SNRs[-1])  # this line\n",
    "plt.savefig('plot_100.png')"
   ]
  }
 ],
 "metadata": {
  "kernelspec": {
   "display_name": "Python 3",
   "language": "python",
   "name": "python3"
  },
  "language_info": {
   "codemirror_mode": {
    "name": "ipython",
    "version": 3
   },
   "file_extension": ".py",
   "mimetype": "text/x-python",
   "name": "python",
   "nbconvert_exporter": "python",
   "pygments_lexer": "ipython3",
   "version": "3.6.5"
  }
 },
 "nbformat": 4,
 "nbformat_minor": 2
}
